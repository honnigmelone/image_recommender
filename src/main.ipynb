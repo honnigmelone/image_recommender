{
 "cells": [
  {
   "cell_type": "code",
   "execution_count": null,
   "metadata": {},
   "outputs": [],
   "source": [
    "from similarities import calculate_similarities"
   ]
  },
  {
   "cell_type": "markdown",
   "metadata": {},
   "source": [
    "### **DISCLAIMER**\n",
    "\n",
    "In this notebook you can use all the data you collected to get the k most similar images from an image in different modes and for different metrics "
   ]
  },
  {
   "cell_type": "markdown",
   "metadata": {},
   "source": [
    "### Put your input image here\n",
    "input_image =r\"\""
   ]
  },
  {
   "cell_type": "markdown",
   "metadata": {},
   "source": [
    "### **EMBEDDINGS**"
   ]
  },
  {
   "cell_type": "markdown",
   "metadata": {},
   "source": [
    "calculate_similarities(input_image, mode=\"embeddings\", metric=\"cosine\", top_k=5)"
   ]
  }
 ],
 "metadata": {
  "kernelspec": {
   "display_name": "\"Python/Mu (mu_venv-38-20230611-142933)\"",
   "language": "python",
   "name": "mu_venv-38-20230611-142933"
  }
 },
 "nbformat": 4,
 "nbformat_minor": 2
}
